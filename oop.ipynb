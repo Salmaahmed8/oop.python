{
  "nbformat": 4,
  "nbformat_minor": 0,
  "metadata": {
    "colab": {
      "provenance": []
    },
    "kernelspec": {
      "name": "python3",
      "display_name": "Python 3"
    },
    "language_info": {
      "name": "python"
    }
  },
  "cells": [
    {
      "cell_type": "code",
      "source": [
        "class Animal:\n",
        "  def __init__(self, name):\n",
        "    self.name = name\n",
        "\n",
        "  def eat(self):\n",
        "    print(f\"{self.name} is eating.\")\n",
        "\n",
        "  def sleep(self):\n",
        "    print(f\"{self.name} is sleeping.\")\n",
        "\n",
        "class Cat(Animal):\n",
        "  def meow(self):\n",
        "    print(f\"{self.name} is meowing.\")\n",
        "\n",
        "class Dog(Animal):\n",
        "  def bark(self):\n",
        "    print(f\"{self.name} is barking.\")\n",
        "\n",
        "dog = Dog(\"Buddy\")\n",
        "dog.bark()\n",
        "dog.eat()\n",
        "dog.sleep()\n",
        "\n",
        "cat = Cat(\"Whiskers\")\n",
        "cat.meow()\n",
        "cat.eat()\n",
        "cat.sleep()"
      ],
      "metadata": {
        "colab": {
          "base_uri": "https://localhost:8080/"
        },
        "id": "iI_ApK3hX4D9",
        "outputId": "1abe98e4-e136-431d-fc1f-11d8228acd0b"
      },
      "execution_count": 2,
      "outputs": [
        {
          "output_type": "stream",
          "name": "stdout",
          "text": [
            "Buddy is barking.\n",
            "Buddy is eating.\n",
            "Buddy is sleeping.\n",
            "Whiskers is meowing.\n",
            "Whiskers is eating.\n",
            "Whiskers is sleeping.\n"
          ]
        }
      ]
    }
  ]
}